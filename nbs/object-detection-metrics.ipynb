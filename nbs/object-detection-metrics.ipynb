{
 "cells": [
  {
   "cell_type": "code",
   "execution_count": 1,
   "id": "01ddcbcf",
   "metadata": {},
   "outputs": [],
   "source": [
    "import os\n",
    "import sys\n",
    "sys.path.insert(0, os.path.abspath('../'))"
   ]
  },
  {
   "cell_type": "code",
   "execution_count": 2,
   "id": "1f22bb98",
   "metadata": {},
   "outputs": [],
   "source": [
    "import pandas as pd\n",
    "from eval.metrics import image_metrics as im, coco_metrics as cm"
   ]
  },
  {
   "cell_type": "markdown",
   "id": "58d50d4c",
   "metadata": {},
   "source": [
    "## Load Predictions and Labels in CSV format"
   ]
  },
  {
   "cell_type": "code",
   "execution_count": 3,
   "id": "cb409351",
   "metadata": {},
   "outputs": [],
   "source": [
    "preds_path = '../data/predictions.csv'\n",
    "labels_path = preds_path\n",
    "\n",
    "preds_df = pd.read_csv(preds_path)\n",
    "labels_df = pd.read_csv(labels_path)"
   ]
  },
  {
   "cell_type": "code",
   "execution_count": 4,
   "id": "4b3d49de",
   "metadata": {},
   "outputs": [
    {
     "data": {
      "text/html": [
       "<div>\n",
       "<style scoped>\n",
       "    .dataframe tbody tr th:only-of-type {\n",
       "        vertical-align: middle;\n",
       "    }\n",
       "\n",
       "    .dataframe tbody tr th {\n",
       "        vertical-align: top;\n",
       "    }\n",
       "\n",
       "    .dataframe thead th {\n",
       "        text-align: right;\n",
       "    }\n",
       "</style>\n",
       "<table border=\"1\" class=\"dataframe\">\n",
       "  <thead>\n",
       "    <tr style=\"text-align: right;\">\n",
       "      <th></th>\n",
       "      <th>id</th>\n",
       "      <th>xmin</th>\n",
       "      <th>ymin</th>\n",
       "      <th>xmax</th>\n",
       "      <th>ymax</th>\n",
       "      <th>label</th>\n",
       "      <th>score</th>\n",
       "      <th>image_name</th>\n",
       "    </tr>\n",
       "  </thead>\n",
       "  <tbody>\n",
       "    <tr>\n",
       "      <th>0</th>\n",
       "      <td>1</td>\n",
       "      <td>686</td>\n",
       "      <td>295</td>\n",
       "      <td>854</td>\n",
       "      <td>451</td>\n",
       "      <td>Car</td>\n",
       "      <td>0.707925</td>\n",
       "      <td>000000001.jpg</td>\n",
       "    </tr>\n",
       "    <tr>\n",
       "      <th>1</th>\n",
       "      <td>2</td>\n",
       "      <td>289</td>\n",
       "      <td>1039</td>\n",
       "      <td>475</td>\n",
       "      <td>1212</td>\n",
       "      <td>Car</td>\n",
       "      <td>0.679780</td>\n",
       "      <td>000000001.jpg</td>\n",
       "    </tr>\n",
       "    <tr>\n",
       "      <th>2</th>\n",
       "      <td>3</td>\n",
       "      <td>971</td>\n",
       "      <td>677</td>\n",
       "      <td>1192</td>\n",
       "      <td>902</td>\n",
       "      <td>Truck</td>\n",
       "      <td>0.664441</td>\n",
       "      <td>000000001.jpg</td>\n",
       "    </tr>\n",
       "    <tr>\n",
       "      <th>3</th>\n",
       "      <td>4</td>\n",
       "      <td>1294</td>\n",
       "      <td>1222</td>\n",
       "      <td>1497</td>\n",
       "      <td>1408</td>\n",
       "      <td>Car</td>\n",
       "      <td>0.645636</td>\n",
       "      <td>000000002.jpg</td>\n",
       "    </tr>\n",
       "    <tr>\n",
       "      <th>4</th>\n",
       "      <td>5</td>\n",
       "      <td>686</td>\n",
       "      <td>295</td>\n",
       "      <td>854</td>\n",
       "      <td>451</td>\n",
       "      <td>Truck</td>\n",
       "      <td>0.707925</td>\n",
       "      <td>000000002.jpg</td>\n",
       "    </tr>\n",
       "  </tbody>\n",
       "</table>\n",
       "</div>"
      ],
      "text/plain": [
       "   id  xmin  ymin  xmax  ymax  label     score     image_name\n",
       "0   1   686   295   854   451    Car  0.707925  000000001.jpg\n",
       "1   2   289  1039   475  1212    Car  0.679780  000000001.jpg\n",
       "2   3   971   677  1192   902  Truck  0.664441  000000001.jpg\n",
       "3   4  1294  1222  1497  1408    Car  0.645636  000000002.jpg\n",
       "4   5   686   295   854   451  Truck  0.707925  000000002.jpg"
      ]
     },
     "execution_count": 4,
     "metadata": {},
     "output_type": "execute_result"
    }
   ],
   "source": [
    "preds_df.head()"
   ]
  },
  {
   "cell_type": "markdown",
   "id": "f0a78755",
   "metadata": {},
   "source": [
    "## Calc inference dataframe and output metrics"
   ]
  },
  {
   "cell_type": "markdown",
   "id": "479404f7",
   "metadata": {},
   "source": [
    "### Calculate inference dataframe - one row for each bounding box"
   ]
  },
  {
   "cell_type": "code",
   "execution_count": 5,
   "id": "745ee952",
   "metadata": {},
   "outputs": [
    {
     "data": {
      "text/html": [
       "<div>\n",
       "<style scoped>\n",
       "    .dataframe tbody tr th:only-of-type {\n",
       "        vertical-align: middle;\n",
       "    }\n",
       "\n",
       "    .dataframe tbody tr th {\n",
       "        vertical-align: top;\n",
       "    }\n",
       "\n",
       "    .dataframe thead th {\n",
       "        text-align: right;\n",
       "    }\n",
       "</style>\n",
       "<table border=\"1\" class=\"dataframe\">\n",
       "  <thead>\n",
       "    <tr style=\"text-align: right;\">\n",
       "      <th></th>\n",
       "      <th>image_id</th>\n",
       "      <th>class</th>\n",
       "      <th>TP</th>\n",
       "      <th>TN</th>\n",
       "      <th>FP</th>\n",
       "      <th>FN</th>\n",
       "      <th>Confidence</th>\n",
       "      <th>IoU</th>\n",
       "    </tr>\n",
       "  </thead>\n",
       "  <tbody>\n",
       "    <tr>\n",
       "      <th>0</th>\n",
       "      <td>000000001.jpg</td>\n",
       "      <td>Car</td>\n",
       "      <td>1</td>\n",
       "      <td>0</td>\n",
       "      <td>0</td>\n",
       "      <td>0</td>\n",
       "      <td>0.707925</td>\n",
       "      <td>1.0</td>\n",
       "    </tr>\n",
       "    <tr>\n",
       "      <th>1</th>\n",
       "      <td>000000001.jpg</td>\n",
       "      <td>Car</td>\n",
       "      <td>1</td>\n",
       "      <td>0</td>\n",
       "      <td>0</td>\n",
       "      <td>0</td>\n",
       "      <td>0.679780</td>\n",
       "      <td>1.0</td>\n",
       "    </tr>\n",
       "    <tr>\n",
       "      <th>2</th>\n",
       "      <td>000000001.jpg</td>\n",
       "      <td>Truck</td>\n",
       "      <td>1</td>\n",
       "      <td>0</td>\n",
       "      <td>0</td>\n",
       "      <td>0</td>\n",
       "      <td>0.664441</td>\n",
       "      <td>1.0</td>\n",
       "    </tr>\n",
       "    <tr>\n",
       "      <th>3</th>\n",
       "      <td>000000002.jpg</td>\n",
       "      <td>Car</td>\n",
       "      <td>1</td>\n",
       "      <td>0</td>\n",
       "      <td>0</td>\n",
       "      <td>0</td>\n",
       "      <td>0.645636</td>\n",
       "      <td>1.0</td>\n",
       "    </tr>\n",
       "    <tr>\n",
       "      <th>4</th>\n",
       "      <td>000000002.jpg</td>\n",
       "      <td>Truck</td>\n",
       "      <td>1</td>\n",
       "      <td>0</td>\n",
       "      <td>0</td>\n",
       "      <td>0</td>\n",
       "      <td>0.707925</td>\n",
       "      <td>1.0</td>\n",
       "    </tr>\n",
       "  </tbody>\n",
       "</table>\n",
       "</div>"
      ],
      "text/plain": [
       "        image_id  class  TP  TN  FP  FN  Confidence  IoU\n",
       "0  000000001.jpg    Car   1   0   0   0    0.707925  1.0\n",
       "1  000000001.jpg    Car   1   0   0   0    0.679780  1.0\n",
       "2  000000001.jpg  Truck   1   0   0   0    0.664441  1.0\n",
       "3  000000002.jpg    Car   1   0   0   0    0.645636  1.0\n",
       "4  000000002.jpg  Truck   1   0   0   0    0.707925  1.0"
      ]
     },
     "execution_count": 5,
     "metadata": {},
     "output_type": "execute_result"
    }
   ],
   "source": [
    "infer_df = im.get_inference_metrics_from_df(preds_df, labels_df)\n",
    "infer_df.head()"
   ]
  },
  {
   "cell_type": "markdown",
   "id": "756977b0",
   "metadata": {},
   "source": [
    "### Summarise inference dataframe"
   ]
  },
  {
   "cell_type": "code",
   "execution_count": 6,
   "id": "c18a4ab7",
   "metadata": {},
   "outputs": [
    {
     "data": {
      "text/html": [
       "<div>\n",
       "<style scoped>\n",
       "    .dataframe tbody tr th:only-of-type {\n",
       "        vertical-align: middle;\n",
       "    }\n",
       "\n",
       "    .dataframe tbody tr th {\n",
       "        vertical-align: top;\n",
       "    }\n",
       "\n",
       "    .dataframe thead th {\n",
       "        text-align: right;\n",
       "    }\n",
       "</style>\n",
       "<table border=\"1\" class=\"dataframe\">\n",
       "  <thead>\n",
       "    <tr style=\"text-align: right;\">\n",
       "      <th></th>\n",
       "      <th>class</th>\n",
       "      <th>TP</th>\n",
       "      <th>FP</th>\n",
       "      <th>FN</th>\n",
       "      <th>Total</th>\n",
       "      <th>Precision</th>\n",
       "      <th>Recall</th>\n",
       "    </tr>\n",
       "  </thead>\n",
       "  <tbody>\n",
       "    <tr>\n",
       "      <th>0</th>\n",
       "      <td>Car</td>\n",
       "      <td>3</td>\n",
       "      <td>0</td>\n",
       "      <td>0</td>\n",
       "      <td>3</td>\n",
       "      <td>1.0</td>\n",
       "      <td>1.0</td>\n",
       "    </tr>\n",
       "    <tr>\n",
       "      <th>1</th>\n",
       "      <td>Truck</td>\n",
       "      <td>4</td>\n",
       "      <td>0</td>\n",
       "      <td>0</td>\n",
       "      <td>4</td>\n",
       "      <td>1.0</td>\n",
       "      <td>1.0</td>\n",
       "    </tr>\n",
       "    <tr>\n",
       "      <th>2</th>\n",
       "      <td>Van</td>\n",
       "      <td>1</td>\n",
       "      <td>0</td>\n",
       "      <td>0</td>\n",
       "      <td>1</td>\n",
       "      <td>1.0</td>\n",
       "      <td>1.0</td>\n",
       "    </tr>\n",
       "  </tbody>\n",
       "</table>\n",
       "</div>"
      ],
      "text/plain": [
       "   class  TP  FP  FN  Total  Precision  Recall\n",
       "0    Car   3   0   0      3        1.0     1.0\n",
       "1  Truck   4   0   0      4        1.0     1.0\n",
       "2    Van   1   0   0      1        1.0     1.0"
      ]
     },
     "execution_count": 6,
     "metadata": {},
     "output_type": "execute_result"
    }
   ],
   "source": [
    "class_summary_df = im.summarise_inference_metrics(infer_df)\n",
    "class_summary_df"
   ]
  },
  {
   "cell_type": "markdown",
   "id": "0a215fc6",
   "metadata": {},
   "source": [
    "## Plot from the summary "
   ]
  },
  {
   "cell_type": "code",
   "execution_count": 9,
   "id": "febf9ec5",
   "metadata": {},
   "outputs": [
    {
     "data": {
      "image/png": "[encoded data removed]",
      "text/plain": [
       "<Figure size 360x360 with 1 Axes>"
      ]
     },
     "metadata": {
      "needs_background": "light"
     },
     "output_type": "display_data"
    },
    {
     "data": {
      "image/png": "[encoded data removed]",
      "text/plain": [
       "<Figure size 360x360 with 1 Axes>"
      ]
     },
     "metadata": {
      "needs_background": "light"
     },
     "output_type": "display_data"
    }
   ],
   "source": [
    "figsize = (5, 5)\n",
    "fontsize = 16\n",
    "class_stats = class_summary_df.set_index(\"class\")\n",
    "\n",
    "fig_confusion = (\n",
    "    class_summary_df[[\"TP\", \"FP\", \"FN\"]]\n",
    "    .plot(kind=\"bar\", figsize=figsize, width=1, align=\"center\", fontsize=fontsize)\n",
    "    .get_figure()\n",
    ")\n",
    "\n",
    "fig_pr = (\n",
    "    class_summary_df[[\"Precision\", \"Recall\"]]\n",
    "    .plot(kind=\"bar\", figsize=figsize, width=1, align=\"center\", fontsize=fontsize)\n",
    "    .get_figure()\n",
    ")"
   ]
  },
  {
   "cell_type": "markdown",
   "id": "d6537775",
   "metadata": {},
   "source": [
    "## Coco Metrics"
   ]
  },
  {
   "cell_type": "markdown",
   "id": "ac07df8f",
   "metadata": {},
   "source": [
    "Calculate the coco metrics (from pycocotools) from the predictions and labels dataframes. Optionally choose to output per class values.\n",
    "The function returns the results as a dictionary"
   ]
  },
  {
   "cell_type": "code",
   "execution_count": 8,
   "id": "7f4c0682",
   "metadata": {},
   "outputs": [
    {
     "name": "stdout",
     "output_type": "stream",
     "text": [
      "creating index...\n",
      "index created!\n",
      "Loading and preparing results...\n",
      "DONE (t=0.00s)\n",
      "creating index...\n",
      "index created!\n",
      "Running per image evaluation...\n",
      "Evaluate annotation type *bbox*\n",
      "DONE (t=0.00s).\n",
      "Accumulating evaluation results...\n",
      "DONE (t=0.01s).\n",
      " Average Precision  (AP) @[ IoU=0.50:0.95 | area=   all | maxDets=100 ] = 1.000\n",
      " Average Precision  (AP) @[ IoU=0.50      | area=   all | maxDets=100 ] = 1.000\n",
      " Average Precision  (AP) @[ IoU=0.75      | area=   all | maxDets=100 ] = 1.000\n",
      " Average Precision  (AP) @[ IoU=0.50:0.95 | area= small | maxDets=100 ] = -1.000\n",
      " Average Precision  (AP) @[ IoU=0.50:0.95 | area=medium | maxDets=100 ] = -1.000\n",
      " Average Precision  (AP) @[ IoU=0.50:0.95 | area= large | maxDets=100 ] = 1.000\n",
      " Average Recall     (AR) @[ IoU=0.50:0.95 | area=   all | maxDets=  1 ] = 0.806\n",
      " Average Recall     (AR) @[ IoU=0.50:0.95 | area=   all | maxDets= 10 ] = 1.000\n",
      " Average Recall     (AR) @[ IoU=0.50:0.95 | area=   all | maxDets=100 ] = 1.000\n",
      " Average Recall     (AR) @[ IoU=0.50:0.95 | area= small | maxDets=100 ] = -1.000\n",
      " Average Recall     (AR) @[ IoU=0.50:0.95 | area=medium | maxDets=100 ] = -1.000\n",
      " Average Recall     (AR) @[ IoU=0.50:0.95 | area= large | maxDets=100 ] = 1.000\n"
     ]
    },
    {
     "data": {
      "text/plain": [
       "{'All': {'AP_all': 1.0,\n",
       "  'AP_all_IOU_0_50': 1.0,\n",
       "  'AP_all_IOU_0_75': 1.0,\n",
       "  'AP_small': -1.0,\n",
       "  'AP_medium': -1.0,\n",
       "  'AP_large': 1.0,\n",
       "  'AR_all_dets_1': 0.8055555555555556,\n",
       "  'AR_all_dets_10': 1.0,\n",
       "  'AR_all': 1.0,\n",
       "  'AR_small': -1.0,\n",
       "  'AR_medium': -1.0,\n",
       "  'AR_large': 1.0}}"
      ]
     },
     "execution_count": 8,
     "metadata": {},
     "output_type": "execute_result"
    }
   ],
   "source": [
    "res = cm.get_coco_from_dfs(preds_df, labels_df, False)\n",
    "res"
   ]
  },
  {
   "cell_type": "code",
   "execution_count": null,
   "id": "477a30c2",
   "metadata": {},
   "outputs": [],
   "source": []
  },
  {
   "cell_type": "code",
   "execution_count": null,
   "id": "0146649d",
   "metadata": {},
   "outputs": [],
   "source": []
  }
 ],
 "metadata": {
  "kernelspec": {
   "display_name": "py38",
   "language": "python",
   "name": "py38"
  },
  "language_info": {
   "codemirror_mode": {
    "name": "ipython",
    "version": 3
   },
   "file_extension": ".py",
   "mimetype": "text/x-python",
   "name": "python",
   "nbconvert_exporter": "python",
   "pygments_lexer": "ipython3",
   "version": "3.8.8"
  }
 },
 "nbformat": 4,
 "nbformat_minor": 5
}
